{
 "cells": [
  {
   "cell_type": "code",
   "execution_count": 1,
   "metadata": {},
   "outputs": [],
   "source": [
    "import process_img as prim"
   ]
  },
  {
   "cell_type": "code",
   "execution_count": 2,
   "metadata": {},
   "outputs": [],
   "source": [
    "im_path = \"data/receipts/IMG_2272.JPG\"\n",
    "\n",
    "image_name = im_path.split(\"/\")[-1]\n",
    "name = image_name.split(\".\")[0]"
   ]
  },
  {
   "cell_type": "code",
   "execution_count": 4,
   "metadata": {},
   "outputs": [],
   "source": [
    "image = prim.load_image(im_path)\n",
    "img_new = prim.preprocess_for_ocr(image)"
   ]
  },
  {
   "cell_type": "code",
   "execution_count": 5,
   "metadata": {},
   "outputs": [
    {
     "name": "stdout",
     "output_type": "stream",
     "text": [
      "100;\n",
      "\n",
      "Salsskvitterins\n",
      "\n",
      "REMA 1000 MOLDEGARD\n",
      "MOLDEGÅRD VAREHANDEL AS\n",
      "ORG NR. 927135094 MVA\n",
      "\n",
      "Foretaksregaisteret\n",
      "TLE: 71:25:16. 00\n",
      "\n",
      "19,04,24 17:59 Kasse:002\n",
      "Kvitt:94315 OperNr : 9519\n",
      "Serienr. 90494 Id:003138-002\n",
      "PERONI N AZZURRO 25% 229,80\n",
      "COCA-COLA 15% 14,90\n",
      "+ Pant 0% 2,00\n",
      "BÆREPOSE 80% RESIR 25% 4,25\n",
      "Æ har resistrert handleturen! 16964116\n",
      "COCA-COLA 15% 14,90\n",
      "+ Pant 0% 2,00\n",
      "ANANASBRUS 15% 10,00\n",
      "+ Pant 0% 2,00\n",
      "MANGO UTEN SUKKER 15% 10,00\n",
      "+ Pant 0% 2,00\n",
      "ANANASBRUS 15% 10,00\n",
      "+ Pan 0% 2,00\n",
      "PÆREBRUS 15% 10,00\n",
      "+ Pant 04% 2,00\n",
      "PRREBRUS 15% 10,00\n",
      "+ Pant 0% 7,00\n",
      "MANGO UTEN SUKKER 184 10,09\n",
      "+ Pan ; !\n",
      "MARIE KJEKS 15% 16,00\n",
      "SØRLANDSCHIPS 15% 26,90\n",
      "\n",
      "NG SATS? m—=== \"ex —m——mm——\n",
      "— — —\n",
      "\n",
      "Sum 12 varer 382,75\n",
      "\n",
      "-= v— m—\n",
      "Ce 8 T\n",
      "\n",
      "\n"
     ]
    }
   ],
   "source": [
    "text_plain = prim.get_text_from_image_plain(image)\n",
    "print(text_plain)"
   ]
  },
  {
   "cell_type": "code",
   "execution_count": 6,
   "metadata": {},
   "outputs": [],
   "source": [
    "prim.save_raw_text(text_plain, name + \"_raw.txt\")"
   ]
  },
  {
   "cell_type": "code",
   "execution_count": null,
   "metadata": {},
   "outputs": [],
   "source": [
    "processed_im = prim.save_image(\"data/processed_img/\" + image_name, img_new)"
   ]
  },
  {
   "cell_type": "code",
   "execution_count": null,
   "metadata": {},
   "outputs": [],
   "source": [
    "no_borders = prim.remove_borders(img_new)\n",
    "prim.save_image(\"data/test/no_borders.jpg\", no_borders)"
   ]
  },
  {
   "cell_type": "code",
   "execution_count": null,
   "metadata": {},
   "outputs": [],
   "source": [
    "desweked = prim.deskew_image(img_new)\n",
    "prim.save_image(\"data/test/deskewed.jpg\", desweked)"
   ]
  },
  {
   "cell_type": "code",
   "execution_count": 12,
   "metadata": {},
   "outputs": [
    {
     "name": "stdout",
     "output_type": "stream",
     "text": [
      "LABLJA DOOD  |-\n",
      "Salsskvitterins |:\n",
      "REMA 1000 MOLDEGARD 2\n",
      "MOLDEGÅRD VAREHANDEL AS ET\n",
      "| ORG NR. 927135094 MVA Eb\n",
      "| Foretaksregaisteret —-\n",
      "TLF: 71 25 16 00 —\n",
      "19.04.24 17:59 Kasse: 002 ou\n",
      "Kvitt:94315 OperNr : 9519 —\n",
      "Serienr.:90494 Id: 003138-002 —\n",
      "PERONI N AZZURRO 25% 229,80 Å\n",
      "COCA-COLA 15% 14,90 —\n",
      "+ Pant 0% 2,00 —\n",
      "BÆREPOSE 80% RESIR 25% 4,25 —\n",
      "Æ har registrert handleturen! 16964116 ao\n",
      "COCA-COLA 15% 14,90 0\n",
      "+ Pant 0% 2,00 >\n",
      "| ANANASBRUS 15% 10,00 hi\n",
      "+ Pant 0% 2,00 0\n",
      "MANGO UTEN SUKKER 15% 10,00 3\n",
      "+ Pant 0% 2,00\n",
      "ANANASBRUS 15% 10,00 2\n",
      "+ Pant 0% 2,00 |\n",
      "PÆREBRUS 154 10,00 OG\n",
      "+ Pant 0% 2,00 >\n",
      "PÆREBRUS 154 10,00 |\n",
      "+ Pant 0% 2,00\n",
      "HANGD, UTEN SUKKER 1 19.88 |\n",
      "+ Pan |; ! -—\n",
      "MARIE KJEKS 15% 16,00\n",
      " SØRLANDSCHIPS 15% 26,90\n",
      "SP ii lanse eee nen\n",
      "Sum 12 varer 382, 15\n",
      "\n"
     ]
    }
   ],
   "source": [
    "text_conf_new = prim.get_text_from_image(img_new)\n",
    "print(text_conf_new)"
   ]
  },
  {
   "cell_type": "code",
   "execution_count": null,
   "metadata": {},
   "outputs": [],
   "source": [
    "prim.save_raw_text(text_conf_new, name + \".txt\")"
   ]
  }
 ],
 "metadata": {
  "kernelspec": {
   "display_name": "kivy_venv",
   "language": "python",
   "name": "python3"
  },
  "language_info": {
   "codemirror_mode": {
    "name": "ipython",
    "version": 3
   },
   "file_extension": ".py",
   "mimetype": "text/x-python",
   "name": "python",
   "nbconvert_exporter": "python",
   "pygments_lexer": "ipython3",
   "version": "3.11.5"
  }
 },
 "nbformat": 4,
 "nbformat_minor": 2
}
