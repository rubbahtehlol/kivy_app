{
 "cells": [
  {
   "cell_type": "code",
   "execution_count": 1,
   "metadata": {},
   "outputs": [
    {
     "name": "stdout",
     "output_type": "stream",
     "text": [
      "Connected to MongoDB: 7.0.4-rc0\n"
     ]
    }
   ],
   "source": [
    "from bson.objectid import ObjectId\n",
    "from mongo_db import DatabaseOperations\n",
    "database = DatabaseOperations(db_name='receiptsys')"
   ]
  },
  {
   "cell_type": "code",
   "execution_count": null,
   "metadata": {},
   "outputs": [],
   "source": [
    "# Find the old userID and update it to the new userID\n",
    "def update_userID(old_userID, new_userID):\n",
    "    # Find the receipts for the old userID\n",
    "    receipts = database.db[\"receipts\"].find({\"user_id\": old_userID})\n",
    "\n",
    "    # Update the userID in the receipt collection\n",
    "    for receipt in receipts:\n",
    "        database.db[\"receipts\"].update_one({\"_id\": receipt[\"_id\"]}, {\"$set\": {\"user_id\": new_userID}})\n",
    "        print(\"Updated user_id in receipt collection for receipt: \", receipt[\"_id\"])"
   ]
  },
  {
   "cell_type": "code",
   "execution_count": null,
   "metadata": {},
   "outputs": [],
   "source": [
    "update_userID(\"user_1\", \"6604089ba108f529ba1e9972\")"
   ]
  },
  {
   "cell_type": "code",
   "execution_count": null,
   "metadata": {},
   "outputs": [],
   "source": [
    "update_userID(\"user_2\", \"66040a7a919b07325fa0af7b\")"
   ]
  },
  {
   "cell_type": "code",
   "execution_count": null,
   "metadata": {},
   "outputs": [],
   "source": [
    "update_userID(\"user_3\", \"6623cafed9bb6a1950584f71\")"
   ]
  },
  {
   "cell_type": "code",
   "execution_count": 12,
   "metadata": {},
   "outputs": [],
   "source": [
    "def add_receiptID_to_user(userID):\n",
    "    try:\n",
    "        # Convert userID from string to ObjectId for querying\n",
    "        user_oid = ObjectId(userID)\n",
    "        \n",
    "        # Find user by ObjectId\n",
    "        user = database.db[\"user_profiles\"].find_one({\"_id\": user_oid})\n",
    "        \n",
    "        if user:\n",
    "            receipts = database.db[\"receipts\"].find({\"user_id\": userID})\n",
    "            \n",
    "            for receipt in receipts:\n",
    "                # Updating user profile's purchase history with receipt ID\n",
    "                update_result = database.db[\"user_profiles\"].update_one(\n",
    "                    {\"_id\": user_oid},\n",
    "                    {\"$push\": {\"purchase_history\": receipt[\"_id\"]}}\n",
    "                )\n",
    "                if update_result.modified_count > 0:\n",
    "                    print(\"Added receiptID\", receipt[\"_id\"], \"to user collection for user:\", userID)\n",
    "                else:\n",
    "                    print(\"No update made, possibly receipt already in history or other issue.\")\n",
    "        else:\n",
    "            print(\"No user found with ID:\", userID)\n",
    "\n",
    "    except Exception as e:\n",
    "        print(\"Error encountered:\", str(e))\n"
   ]
  },
  {
   "cell_type": "code",
   "execution_count": 13,
   "metadata": {},
   "outputs": [
    {
     "name": "stdout",
     "output_type": "stream",
     "text": [
      "Added receiptID 2149 to user collection for user: 6604089ba108f529ba1e9972\n",
      "Added receiptID 2152 to user collection for user: 6604089ba108f529ba1e9972\n",
      "Added receiptID 2155 to user collection for user: 6604089ba108f529ba1e9972\n",
      "Added receiptID 2159 to user collection for user: 6604089ba108f529ba1e9972\n",
      "Added receiptID 2136 to user collection for user: 6604089ba108f529ba1e9972\n",
      "Added receiptID 2139 to user collection for user: 6604089ba108f529ba1e9972\n",
      "Added receiptID 2142 to user collection for user: 6604089ba108f529ba1e9972\n",
      "Added receiptID 2145 to user collection for user: 6604089ba108f529ba1e9972\n"
     ]
    }
   ],
   "source": [
    "add_receiptID_to_user(\"6604089ba108f529ba1e9972\")"
   ]
  },
  {
   "cell_type": "code",
   "execution_count": 14,
   "metadata": {},
   "outputs": [
    {
     "name": "stdout",
     "output_type": "stream",
     "text": [
      "Added receiptID 2150 to user collection for user: 66040a7a919b07325fa0af7b\n",
      "Added receiptID 2153 to user collection for user: 66040a7a919b07325fa0af7b\n",
      "Added receiptID 2156 to user collection for user: 66040a7a919b07325fa0af7b\n",
      "Added receiptID 2137 to user collection for user: 66040a7a919b07325fa0af7b\n",
      "Added receiptID 2140 to user collection for user: 66040a7a919b07325fa0af7b\n",
      "Added receiptID 2143 to user collection for user: 66040a7a919b07325fa0af7b\n",
      "Added receiptID 2146 to user collection for user: 66040a7a919b07325fa0af7b\n"
     ]
    }
   ],
   "source": [
    "add_receiptID_to_user(\"66040a7a919b07325fa0af7b\")"
   ]
  },
  {
   "cell_type": "code",
   "execution_count": 15,
   "metadata": {},
   "outputs": [
    {
     "name": "stdout",
     "output_type": "stream",
     "text": [
      "Added receiptID 2151 to user collection for user: 6623cafed9bb6a1950584f71\n",
      "Added receiptID 2154 to user collection for user: 6623cafed9bb6a1950584f71\n",
      "Added receiptID 2157 to user collection for user: 6623cafed9bb6a1950584f71\n",
      "Added receiptID 2138 to user collection for user: 6623cafed9bb6a1950584f71\n",
      "Added receiptID 2141 to user collection for user: 6623cafed9bb6a1950584f71\n",
      "Added receiptID 2144 to user collection for user: 6623cafed9bb6a1950584f71\n",
      "Added receiptID 2147 to user collection for user: 6623cafed9bb6a1950584f71\n"
     ]
    }
   ],
   "source": [
    "add_receiptID_to_user(\"6623cafed9bb6a1950584f71\")"
   ]
  }
 ],
 "metadata": {
  "kernelspec": {
   "display_name": "kivy_venv",
   "language": "python",
   "name": "python3"
  },
  "language_info": {
   "codemirror_mode": {
    "name": "ipython",
    "version": 3
   },
   "file_extension": ".py",
   "mimetype": "text/x-python",
   "name": "python",
   "nbconvert_exporter": "python",
   "pygments_lexer": "ipython3",
   "version": "3.11.5"
  }
 },
 "nbformat": 4,
 "nbformat_minor": 2
}
